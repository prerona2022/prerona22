{
 "cells": [
  {
   "cell_type": "code",
   "execution_count": 1,
   "id": "4f537131",
   "metadata": {},
   "outputs": [],
   "source": [
    "#Assignment-1\n"
   ]
  },
  {
   "cell_type": "code",
   "execution_count": null,
   "id": "d501d2f2",
   "metadata": {},
   "outputs": [],
   "source": [
    "1.ans-Values are 'hello',6,-87.8\n",
    "       Expression are +,-,*,/"
   ]
  },
  {
   "cell_type": "code",
   "execution_count": null,
   "id": "a60e75e9",
   "metadata": {},
   "outputs": [],
   "source": [
    "2.ans-The difference between variable and string:\n",
    "Data/values can be stored in temporary storage spaces called variable.a variable is a store of information.\n",
    "Strings are sequence of characters enclosed with single quotes[''],Double quotes[\" \"],triple quotes[\"' '\"].String is \n",
    " a type of information you would store in a variable.\n",
    "        "
   ]
  },
  {
   "cell_type": "code",
   "execution_count": null,
   "id": "ddfc154a",
   "metadata": {},
   "outputs": [],
   "source": [
    "3.ans-Three different data types are-\n",
    "  1.Integer-It's a normal number.example:10,500\n",
    "  2.Float-Decimal operators are floating point numbers.example:3.14,15.97\n",
    "  3.Boolean-Boolean value also indicates yes or no.example:True,False."
   ]
  },
  {
   "cell_type": "code",
   "execution_count": null,
   "id": "fedc8726",
   "metadata": {},
   "outputs": [],
   "source": [
    "4.ans-An expression is a construct made up of variables,operators,and method invocations,which are \n",
    "     constructed according to the syntax of the language,that evaluates to a single value.\n",
    "      An expression is a combination of operators and operands that is interpreted to produce some other value.\n",
    "      An expression is evaluated as per the precedence of its operators."
   ]
  },
  {
   "cell_type": "code",
   "execution_count": null,
   "id": "70381dc3",
   "metadata": {},
   "outputs": [],
   "source": [
    "5.ans-The assignment statements,like spam=10.The difference between an expression and statement:\n",
    "       expression is made up of values,variable,operators.\n",
    "        Statement is just like a command that a python interpreter executes like print."
   ]
  },
  {
   "cell_type": "code",
   "execution_count": null,
   "id": "ecc5e469",
   "metadata": {},
   "outputs": [],
   "source": [
    "6.bacon = 22"
   ]
  },
  {
   "cell_type": "code",
   "execution_count": 5,
   "id": "9bb7d2d7",
   "metadata": {},
   "outputs": [
    {
     "data": {
      "text/plain": [
       "23"
      ]
     },
     "execution_count": 5,
     "metadata": {},
     "output_type": "execute_result"
    }
   ],
   "source": [
    "bacon +1"
   ]
  },
  {
   "cell_type": "code",
   "execution_count": null,
   "id": "bdcd4fc9",
   "metadata": {},
   "outputs": [],
   "source": [
    "7.'spam'+'spamspam'"
   ]
  },
  {
   "cell_type": "code",
   "execution_count": 4,
   "id": "2e9260b3",
   "metadata": {},
   "outputs": [
    {
     "data": {
      "text/plain": [
       "'spamspamspam'"
      ]
     },
     "execution_count": 4,
     "metadata": {},
     "output_type": "execute_result"
    }
   ],
   "source": [
    "'spam'*3"
   ]
  },
  {
   "cell_type": "code",
   "execution_count": null,
   "id": "e890364e",
   "metadata": {},
   "outputs": [],
   "source": [
    "8.ans-Because we can't start giving variable an integer name.if we,we should begin\n",
    "      with,a string-like alphabet name then integer.eggs100 is valid."
   ]
  },
  {
   "cell_type": "code",
   "execution_count": null,
   "id": "9268a8f2",
   "metadata": {},
   "outputs": [],
   "source": [
    "9.ans-int(),float(),str().\n"
   ]
  },
  {
   "cell_type": "code",
   "execution_count": null,
   "id": "da7e8d59",
   "metadata": {},
   "outputs": [],
   "source": [
    "10.ans-'i have eaten'+99+'burritos'\n",
    "        because 99 is an integer it can not be concatenated with strings,we have to concatenate\n",
    "        it we need to do typecasting."
   ]
  }
 ],
 "metadata": {
  "kernelspec": {
   "display_name": "Python 3 (ipykernel)",
   "language": "python",
   "name": "python3"
  },
  "language_info": {
   "codemirror_mode": {
    "name": "ipython",
    "version": 3
   },
   "file_extension": ".py",
   "mimetype": "text/x-python",
   "name": "python",
   "nbconvert_exporter": "python",
   "pygments_lexer": "ipython3",
   "version": "3.9.7"
  },
  "widgets": {
   "application/vnd.jupyter.widget-state+json": {
    "state": {},
    "version_major": 2,
    "version_minor": 0
   }
  }
 },
 "nbformat": 4,
 "nbformat_minor": 5
}
