{
 "cells": [
  {
   "cell_type": "code",
   "execution_count": null,
   "id": "9e9f9116",
   "metadata": {},
   "outputs": [],
   "source": [
    "#Assignment-2"
   ]
  },
  {
   "cell_type": "code",
   "execution_count": null,
   "id": "cfcf64bc",
   "metadata": {},
   "outputs": [],
   "source": [
    "1.ans-There are two boolean values : True and False.\n",
    "      Any integer,floating-point number or complex number having zero as a value\n",
    "        is considered as false,while if they are having value as any positive or negative number\n",
    "        then it is considered as true."
   ]
  },
  {
   "cell_type": "code",
   "execution_count": null,
   "id": "9ecd6f44",
   "metadata": {},
   "outputs": [],
   "source": [
    "2.ans-The three different types of boolean operators are-AND,OR and NOT."
   ]
  },
  {
   "cell_type": "code",
   "execution_count": null,
   "id": "714213c3",
   "metadata": {},
   "outputs": [],
   "source": [
    "3.ans-Operator     What it means\n",
    "        =          Equal to\n",
    "        =!         Not Equal to\n",
    "        <          Less Than\n",
    "        >          Greater Than\n",
    "        <=         Less than equal to\n",
    "        >=         Greater than eual to"
   ]
  },
  {
   "cell_type": "code",
   "execution_count": null,
   "id": "bf0a0d07",
   "metadata": {},
   "outputs": [],
   "source": [
    "#Truth Table\n",
    "Truth Table for AND\n",
    "A B output\n",
    "0 0 0\n",
    "0 1 0\n",
    "1 0 0\n",
    "1 1 1\n",
    "Truth Table for OR\n",
    "A B output\n",
    "0 0 0\n",
    "0 1 1\n",
    "1 0 1\n",
    "1 1 1\n",
    "Truth Table for NOT\n",
    "A output\n",
    "0 1"
   ]
  },
  {
   "cell_type": "code",
   "execution_count": 1,
   "id": "f19eb166",
   "metadata": {},
   "outputs": [
    {
     "data": {
      "text/plain": [
       "True"
      ]
     },
     "execution_count": 1,
     "metadata": {},
     "output_type": "execute_result"
    }
   ],
   "source": [
    "4.ans-(5 > 4) and (3 == 5)\n",
    "      not (5 > 4)\n"
   ]
  },
  {
   "cell_type": "code",
   "execution_count": 2,
   "id": "3dd22ca7",
   "metadata": {},
   "outputs": [
    {
     "data": {
      "text/plain": [
       "False"
      ]
     },
     "execution_count": 2,
     "metadata": {},
     "output_type": "execute_result"
    }
   ],
   "source": [
    "(5 > 4) or (3 == 5)\n",
    "not ((5 > 4) or (3 == 5))\n"
   ]
  },
  {
   "cell_type": "code",
   "execution_count": 3,
   "id": "8de85c76",
   "metadata": {},
   "outputs": [
    {
     "data": {
      "text/plain": [
       "True"
      ]
     },
     "execution_count": 3,
     "metadata": {},
     "output_type": "execute_result"
    }
   ],
   "source": [
    "(True and True) and (True == False)\n",
    "(not False) or (not True)\n"
   ]
  },
  {
   "cell_type": "code",
   "execution_count": null,
   "id": "d4d06cc7",
   "metadata": {},
   "outputs": [],
   "source": [
    "5.ans-The six comparison operators are:<,>,<=,>=,==,=! "
   ]
  },
  {
   "cell_type": "code",
   "execution_count": null,
   "id": "14c6567b",
   "metadata": {},
   "outputs": [],
   "source": [
    "6.ans-The difference between equal to operator and assignment operators:\n",
    "      The ‘==’ operator checks whether the two given operands are equal or not. \n",
    "      If so, it returns true. Otherwise it returns false.\n",
    "    \n",
    "      The “=” is an assignment operator is used to assign the value on the right to the variable on the left."
   ]
  },
  {
   "cell_type": "code",
   "execution_count": 43,
   "id": "a44699a5",
   "metadata": {},
   "outputs": [
    {
     "name": "stdout",
     "output_type": "stream",
     "text": [
      "ham\n",
      "spam\n",
      "spam\n"
     ]
    }
   ],
   "source": [
    "7.ans-spam = 0\n",
    "if spam == 10:\n",
    "    print('eggs') #Block 1\n",
    "if spam > 5:\n",
    "    print('bacon') #Block 2\n",
    "else:\n",
    "    print('ham') #Block 3\n",
    "    print('spam')\n",
    "    print('spam')"
   ]
  },
  {
   "cell_type": "code",
   "execution_count": 42,
   "id": "db9caf25",
   "metadata": {},
   "outputs": [
    {
     "name": "stdout",
     "output_type": "stream",
     "text": [
      "Greetings!\n"
     ]
    }
   ],
   "source": [
    "8.ans-spam = (\"Input a no.\")\n",
    "if spam == 1:\n",
    "    print(\"Hello\")\n",
    "elif spam == 2:\n",
    "    print(\"Howdy\")\n",
    "else:\n",
    "    print(\"Greetings!\")\n",
    "        "
   ]
  },
  {
   "cell_type": "code",
   "execution_count": null,
   "id": "89911aba",
   "metadata": {},
   "outputs": [],
   "source": [
    "9.ans-ctrl+c."
   ]
  },
  {
   "cell_type": "code",
   "execution_count": null,
   "id": "885df5b7",
   "metadata": {},
   "outputs": [],
   "source": [
    "10.ans-The difference between break and continue statement:\n",
    "   The main difference between break and continue statement is that when break keyword is encountered, it will exit the loop. \n",
    "    In case of continue keyword, the current iteration that is running will be \n",
    "    stopped,and it will proceed with the next iteration."
   ]
  },
  {
   "cell_type": "code",
   "execution_count": 44,
   "id": "5915763b",
   "metadata": {},
   "outputs": [
    {
     "name": "stdout",
     "output_type": "stream",
     "text": [
      "0\n",
      "1\n",
      "2\n",
      "3\n",
      "4\n",
      "5\n",
      "6\n",
      "Breaked\n",
      "0\n",
      "1\n",
      "2\n",
      "3\n",
      "4\n",
      "5\n",
      "6\n",
      "8\n",
      "9\n"
     ]
    }
   ],
   "source": [
    "# use of break\n",
    "for i in range(10):\n",
    "    if(i==7):\n",
    "        break\n",
    "    print(i)\n",
    "    \n",
    "print('Breaked')\n",
    "#use of  continue\n",
    "for i in range(10):\n",
    "    if(i==7):\n",
    "        continue\n",
    "    print(i)\n",
    "    "
   ]
  },
  {
   "cell_type": "code",
   "execution_count": 45,
   "id": "727149f4",
   "metadata": {},
   "outputs": [
    {
     "name": "stdout",
     "output_type": "stream",
     "text": [
      "0\n",
      "1\n",
      "2\n",
      "3\n",
      "4\n",
      "5\n",
      "6\n",
      "7\n",
      "8\n",
      "9\n",
      "xxxxxxxxxxxxxxxxxxxxxxxxxxxxxxxxxxxxxxxxxxxxxxxxxxxxxxxxxxxxxxxxxxxxxxxxxxxxxxxxxxxxxx\n",
      "0\n",
      "1\n",
      "2\n",
      "3\n",
      "4\n",
      "5\n",
      "6\n",
      "7\n",
      "8\n",
      "9\n",
      "xxxxxxxxxxxxxxxxxxxxxxxxxxxxxxxxxxxxxxxxxxxxxxxxxxxxxxxxxxxxxxxxxxxxxxxxxxxxxxxxxxxxxx\n",
      "0\n",
      "1\n",
      "2\n",
      "3\n",
      "4\n",
      "5\n",
      "6\n",
      "7\n",
      "8\n",
      "9\n"
     ]
    },
    {
     "data": {
      "text/plain": [
       "0"
      ]
     },
     "execution_count": 45,
     "metadata": {},
     "output_type": "execute_result"
    }
   ],
   "source": [
    "11.ans-for i in range(10):\n",
    "    print(i)\n",
    "print(\"xxxxxxxxxxxxxxxxxxxxxxxxxxxxxxxxxxxxxxxxxxxxxxxxxxxxxxxxxxxxxxxxxxxxxxxxxxxxxxxxxxxxxx\") \n",
    "for i in range(0,10):\n",
    "    print(i)\n",
    "print(\"xxxxxxxxxxxxxxxxxxxxxxxxxxxxxxxxxxxxxxxxxxxxxxxxxxxxxxxxxxxxxxxxxxxxxxxxxxxxxxxxxxxxxx\")\n",
    "for i in range(0,10,1):\n",
    "    print(i)\n",
    "0"
   ]
  },
  {
   "cell_type": "code",
   "execution_count": null,
   "id": "2df35401",
   "metadata": {},
   "outputs": [],
   "source": [
    "we can conclude that they all do the same thing. The range(10) call ranges from 0 \n",
    "up to (but not including) 10, range(0, 10) tells the loop to start at 0, \n",
    "and range(0, 10, 1) tells the loop to increase the variable by 1 on each iteration."
   ]
  },
  {
   "cell_type": "code",
   "execution_count": 12,
   "id": "d2ece919",
   "metadata": {},
   "outputs": [
    {
     "data": {
      "text/plain": [
       "1"
      ]
     },
     "execution_count": 12,
     "metadata": {},
     "output_type": "execute_result"
    }
   ],
   "source": [
    "12.ans-i = 1\n",
    "i"
   ]
  },
  {
   "cell_type": "code",
   "execution_count": 29,
   "id": "de3078c3",
   "metadata": {},
   "outputs": [
    {
     "name": "stdout",
     "output_type": "stream",
     "text": [
      "1\n",
      "2\n",
      "3\n",
      "4\n",
      "5\n",
      "6\n",
      "7\n",
      "8\n",
      "9\n",
      "10\n"
     ]
    }
   ],
   "source": [
    "i = 1\n",
    "while i <= 10:\n",
    " print(i)\n",
    " i += 1"
   ]
  },
  {
   "cell_type": "code",
   "execution_count": 30,
   "id": "468c8450",
   "metadata": {},
   "outputs": [
    {
     "name": "stdout",
     "output_type": "stream",
     "text": [
      "1\n",
      "2\n",
      "3\n",
      "4\n",
      "5\n",
      "6\n",
      "7\n",
      "8\n",
      "9\n",
      "10\n"
     ]
    }
   ],
   "source": [
    "for i in range(1, 11):\n",
    "    print(i)"
   ]
  },
  {
   "cell_type": "code",
   "execution_count": null,
   "id": "c88cc4cf",
   "metadata": {},
   "outputs": [],
   "source": [
    "13.ans-spam.bacon()"
   ]
  }
 ],
 "metadata": {
  "kernelspec": {
   "display_name": "Python 3 (ipykernel)",
   "language": "python",
   "name": "python3"
  },
  "language_info": {
   "codemirror_mode": {
    "name": "ipython",
    "version": 3
   },
   "file_extension": ".py",
   "mimetype": "text/x-python",
   "name": "python",
   "nbconvert_exporter": "python",
   "pygments_lexer": "ipython3",
   "version": "3.9.7"
  }
 },
 "nbformat": 4,
 "nbformat_minor": 5
}
